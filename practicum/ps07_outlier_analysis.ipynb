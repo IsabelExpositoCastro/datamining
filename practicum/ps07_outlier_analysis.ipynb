{
 "cells": [
  {
   "cell_type": "markdown",
   "metadata": {},
   "source": [
    "# Practice PS07: Outlier analysis"
   ]
  },
  {
   "cell_type": "markdown",
   "metadata": {},
   "source": [
    "The objective of this session is to practice finding outliers by implementing the [Isolation Forest](https://en.wikipedia.org/wiki/Isolation_forest) algorithm.\n",
    "\n",
    "<font size=\"-1\" color=\"gray\">(Remove this cell when delivering.)</font>"
   ]
  },
  {
   "cell_type": "markdown",
   "metadata": {},
   "source": [
    "Author: <font color=\"blue\">Your name here</font>\n",
    "\n",
    "E-mail: <font color=\"blue\">Your e-mail here</font>\n",
    "\n",
    "Date: <font color=\"blue\">The current date here</font>"
   ]
  },
  {
   "cell_type": "code",
   "execution_count": null,
   "metadata": {},
   "outputs": [],
   "source": [
    "# LEAVE THIS CELL AS-IS\n",
    "\n",
    "import pandas as pd\n",
    "import matplotlib.pyplot as plt\n",
    "import csv\n",
    "import io\n",
    "import random\n",
    "import numpy as np"
   ]
  },
  {
   "cell_type": "markdown",
   "metadata": {},
   "source": [
    "# 1. Dataset"
   ]
  },
  {
   "cell_type": "markdown",
   "metadata": {},
   "source": [
    "We will use two datasets: \n",
    "\n",
    "* The [Thyroid dataset](http://odds.cs.stonybrook.edu/annthyroid-dataset/) with exams of the thyroid gland of 7,200 patients.\n",
    "* The [Cardiotocography dataset](https://shebuti.com/cardiotocogrpahy-dataset/) with exams of fetal heart rate and uterine contractions of 1,831 patients.\n",
    "\n",
    "In both datasets the attributes are named *f1*, *f2*, ... and there is a *result* label indicating whether a clinician considered the situation *normal* or *abnormal*.\n",
    "\n",
    "<font size=\"-1\" color=\"gray\">(Remove this cell when delivering.)</font>"
   ]
  },
  {
   "cell_type": "code",
   "execution_count": null,
   "metadata": {},
   "outputs": [],
   "source": [
    "# LEAVE THIS CELL AS-IS\n",
    "\n",
    "dft = pd.read_csv('annthyroid.csv', sep=',')\n",
    "dfc = pd.read_csv('cardio.csv', sep=',')"
   ]
  },
  {
   "cell_type": "markdown",
   "metadata": {},
   "source": [
    "Print the total number of patients, the number and percentage of patients with normal and abnormal exams. Your code should write:\n",
    "\n",
    "```\n",
    "Thyroid dataset containing 7200 patients\n",
    "Normal   : 6666 (92.58%)\n",
    "Abnormal : 534 (7.42%)\n",
    "\n",
    "Cardio dataset containing 1831 patients\n",
    "Normal   : 1655 (90.39%)\n",
    "Abnormal : 176 (9.61%)\n",
    "```\n",
    "\n",
    "<font size=\"-1\" color=\"gray\">(Remove this cell when delivering.)</font>"
   ]
  },
  {
   "cell_type": "markdown",
   "metadata": {},
   "source": [
    "<font size=\"+1\" color=\"red\">Replace this cell with your code to print the number and percentages of patients in each group.</font>"
   ]
  },
  {
   "cell_type": "markdown",
   "metadata": {},
   "source": [
    "## 1.1. Centroid inspection for the \"thyroid\" dataset\n",
    "\n",
    "To have a first idea on whether a dataset contains relevant features for outlier detection, there are various methods. One of them is to determine the centroid of normal and abnormal points.\n",
    "\n",
    "Print the first 10 normal exams, and the \"centroid\" (average) of a normal exam in the `thyroid` dataset.\n",
    "\n",
    "Print the first 10 abnormal exams, and the \"centroid\" (average) of a normal exam in the `thyroid` dataset.\n",
    "\n",
    "<font size=\"-1\" color=\"gray\">(Remove this cell when delivering.)</font>"
   ]
  },
  {
   "cell_type": "markdown",
   "metadata": {},
   "source": [
    "<font size=\"+1\" color=\"red\">Replace this cell with your code to print the 10 normal exams in the `thyroid` dataset and the centroid of all normal exams, and the first 10 abnormal exams and the centroid of all abnormal exams.</font>"
   ]
  },
  {
   "cell_type": "markdown",
   "metadata": {},
   "source": [
    "<font size=\"+1\" color=\"red\">Replace this cell with a brief comment indicating, based only on the centroids, which features do you think could be useful for differentiating between normal and abnormal thyroids? Why?</font>"
   ]
  },
  {
   "cell_type": "markdown",
   "metadata": {},
   "source": [
    "## 1.2. Scatter plot inspection for the \"cardio\" dataset \n",
    "\n",
    "A second idea is to use scatter plots to look at combination of features. Identifying outliers is easier when outliers are different, across many dimensions, from inliers. \n",
    "\n",
    "To show this, we can create all scatter plots of combinations of two dimensions in the data. In these, you can see that feature values for the minority class (represented by the color red), indeed are quite different from feature values for the majority class (represented by the color blue).\n",
    "\n",
    "Use [scatter_matrix](https://pandas.pydata.org/pandas-docs/stable/reference/api/pandas.plotting.scatter_matrix.html) to create a matrix of scatter plots. The following code creates a simple scatter matrix. Pick color1 and color2 from the list of [matplotlib colors](https://matplotlib.org/stable/gallery/color/named_colors.html).\n",
    "\n",
    "```python\n",
    "color_code = {'abnormal': ..., 'normal': ...}\n",
    "\n",
    "colors = df['result'].apply(lambda x: color_code[x])\n",
    "\n",
    "pd.plotting.scatter_matrix(df, c=colors)\n",
    "```\n",
    "\n",
    "Change the figure size with parameter `figsize`.\n",
    "\n",
    "<font size=\"-1\" color=\"gray\">(Remove this cell when delivering.)</font>"
   ]
  },
  {
   "cell_type": "markdown",
   "metadata": {},
   "source": [
    "<font size=\"+1\" color=\"red\">Replace this cell with your code to create a scatter matrix as described above.</font>"
   ]
  },
  {
   "cell_type": "markdown",
   "metadata": {},
   "source": [
    "<font size=\"+1\" color=\"red\">Replace this cell with a brief commentary on whether you already guess any difference between normal and abnormal exams, based on combinations of features. What are the differences you can appreciate?</font>"
   ]
  },
  {
   "cell_type": "markdown",
   "metadata": {},
   "source": [
    "# 1. Create isolation tree"
   ]
  },
  {
   "cell_type": "markdown",
   "metadata": {},
   "source": [
    "## 1.1. Random dimension and random split"
   ]
  },
  {
   "cell_type": "markdown",
   "metadata": {},
   "source": [
    "Create a function that returns a random dimension in the dataset. We will ignore some columns, because the random dimension can never be *id* or *result*, but instead should be one of the other dimensions 'f1', 'f2', ..., 'f6'. Do not hard-code these dimensions into your function, instead, read df.columns.\n",
    "\n",
    "The signature of your function should be `pick_random_dimension(df, columns_to_ignore)`.\n",
    "\n",
    "Test your function by calling it a few times. It should return a random dimension every time, among the columns of the dataset, excluding the *columns_to_ignore*.\n",
    "\n",
    "<font size=\"-1\" color=\"gray\">(Remove this cell when delivering.)</font>"
   ]
  },
  {
   "cell_type": "markdown",
   "metadata": {},
   "source": [
    "<font size=\"+1\" color=\"red\">Replace this cell with code implementing \"pick_random_dimension\"."
   ]
  },
  {
   "cell_type": "markdown",
   "metadata": {},
   "source": [
    "The following code tests your function.\n",
    "\n",
    "<font size=\"-1\" color=\"gray\">(Remove this cell when delivering.)</font>"
   ]
  },
  {
   "cell_type": "code",
   "execution_count": null,
   "metadata": {},
   "outputs": [],
   "source": [
    "# LEAVE THIS CODE AS-IS\n",
    "# Testing code\n",
    "\n",
    "print(\"Random dimensions for the 'thyroid' dataset\")\n",
    "print(pick_random_dimension(dft, [\"result\"]))\n",
    "print(pick_random_dimension(dft, [\"result\"]))\n",
    "print()\n",
    "\n",
    "print(\"Random dimensions for the 'cardio' dataset\")\n",
    "print(pick_random_dimension(dfc, [\"result\"]))\n",
    "print(pick_random_dimension(dfc, [\"result\"]))"
   ]
  },
  {
   "cell_type": "markdown",
   "metadata": {},
   "source": [
    "Create a function that returns a split point chosen uniformly at random along a dimension. Use `np.min(df[dimension])` and `np.max(df[dimension])` to determine the bounds.\n",
    "\n",
    "The signature of your function should be `pick_random_split(df, dimension)`.\n",
    "\n",
    "<font size=\"-1\" color=\"gray\">(Remove this cell when delivering.)</font>"
   ]
  },
  {
   "cell_type": "markdown",
   "metadata": {},
   "source": [
    "<font size=\"+1\" color=\"red\">Replace this cell with code implementing \"pick_random_split\" and a couple of calls to test this function; each call should return a random split point chosen uniformly at random between the minimum and the maximum value along a dimension.</font>"
   ]
  },
  {
   "cell_type": "markdown",
   "metadata": {},
   "source": [
    "The following code tests your function. Note that in the `thyroid` dataset features are normalized to be in the unit interval, but in `cardio` the features are not normalized.\n",
    "\n",
    "<font size=\"-1\" color=\"gray\">(Remove this cell when delivering.)</font>"
   ]
  },
  {
   "cell_type": "code",
   "execution_count": null,
   "metadata": {},
   "outputs": [],
   "source": [
    "# LEAVE THIS CODE AS-IS\n",
    "\n",
    "print(\"Random splits according to 'f4' in the 'thyroid' dataset\")\n",
    "print(pick_random_split(dft, \"f4\"))\n",
    "print(pick_random_split(dft, \"f4\"))\n",
    "print()\n",
    "print(\"Random splits according to 'f15' in the 'cardio' dataset\")\n",
    "print(pick_random_split(dfc, \"f15\"))\n",
    "print(pick_random_split(dfc, \"f15\"))"
   ]
  },
  {
   "cell_type": "markdown",
   "metadata": {},
   "source": [
    "## 1.2. Implement split data into two"
   ]
  },
  {
   "cell_type": "markdown",
   "metadata": {},
   "source": [
    "Implement a function `split_dataset(df, dimension, split)` that returns two sub-datasets: one with all elements having *dimension <= split*, and another one with all elements having *dimension > split*.\n",
    "\n",
    "The signature of your function should be `split_dataset(df, dimension, split)`.\n",
    "\n",
    "<font size=\"-1\" color=\"gray\">(Remove this cell when delivering.)</font>"
   ]
  },
  {
   "cell_type": "markdown",
   "metadata": {},
   "source": [
    "<font size=\"+1\" color=\"red\">Replace this cell with code implementing \"split_dataset\".</font>"
   ]
  },
  {
   "cell_type": "markdown",
   "metadata": {},
   "source": [
    "Remember to test your function; for instance, split on dimension `f1` at `0.5` by doing:\n",
    "\n",
    "```python\n",
    "(left, right) = split_dataset(df, 'f1', 0.5)\n",
    "```\n",
    "\n",
    "In the output, all the rows in `left` have f1 <= 0.5 and all the rows in `right` have f1 > 0.5.\n",
    "\n",
    "Print the number of rows in each side (left, right) and the total number of rows in the input. These sum of left plus right should be the total.\n",
    "\n",
    "<font size=\"-1\" color=\"gray\">(Remove this cell when delivering.)</font>"
   ]
  },
  {
   "cell_type": "markdown",
   "metadata": {},
   "source": [
    "<font size=\"+1\" color=\"red\">Replace this cell with code testing \"split_dataset\", i.e., select a dataset, a dimension, and a cut-off, and split the dataset, then print the two pieces and check that it is working correctly. Also check that the sum of the sizes of the two pieces is the size of the original data.</font>"
   ]
  },
  {
   "cell_type": "markdown",
   "metadata": {},
   "source": [
    "## 1.3. Create one isolation tree"
   ]
  },
  {
   "cell_type": "markdown",
   "metadata": {},
   "source": [
    "First, let us add a patient identifier in column \"id\". The new dataframe is called `dfi`.\n",
    "\n",
    "<font size=\"-1\" color=\"gray\">(Remove this cell when delivering.)</font>"
   ]
  },
  {
   "cell_type": "code",
   "execution_count": null,
   "metadata": {},
   "outputs": [],
   "source": [
    "# LEAVE THIS COLUMN AS-IS\n",
    "\n",
    "dfti = dft.copy()\n",
    "dfti.insert(0, 'id', [(\"P%.4d\" % x) for x in range(1, 1 + len(dft))])\n",
    "display(dfti.head(5))\n",
    "\n",
    "dfci = dfc.copy()\n",
    "dfci.insert(0, 'id', [(\"P%.4d\" % x) for x in range(1, 1 + len(dfc))])\n",
    "display(dfci.head(5))"
   ]
  },
  {
   "cell_type": "markdown",
   "metadata": {},
   "source": [
    "An isolation tree will be a dictionary. In this dictionary, having *contents*, indicates an external node of the tree, while having *left* and *right* indicates an internal node of the tree.\n",
    "\n",
    "Create a recursive function `isolation_tree(data, columns_to_ignore, min_items)` that:\n",
    "\n",
    "* If the *data* has *min_items* or less:\n",
    "    * Return a dictionary `{\"contents\": data}`\n",
    "* If the *data* has more than *min_items*\n",
    "    * Selects a random dimension from the data, ignoring the *columns_to_ignore*\n",
    "    * Selects a random split point along that dimension\n",
    "    * Sets `left` to an isolation tree containing points having dimension <= split\n",
    "    * Sets `right` to an isolation tree containing points having dimension > split\n",
    "    * Returns a dictionary `{\"left\": left, \"right\": right, \"dimension\": dimension, \"split\": split}`\n",
    "\n",
    "You can use the following skeleton:\n",
    "\n",
    "```python\n",
    "def isolation_tree(data, columns_to_ignore, min_items):\n",
    "    tree = {}\n",
    "    if len(data) <= min_items:\n",
    "        return {\"contents\": data}\n",
    "    else:\n",
    "        # REPLACE WITH YOUR CODE \n",
    "        return tree   \n",
    "```\n",
    "\n",
    "<font size=\"-1\" color=\"gray\">(Remove this cell when delivering.)</font>"
   ]
  },
  {
   "cell_type": "markdown",
   "metadata": {},
   "source": [
    "<font size=\"+1\" color=\"red\">Replace this cell with you code implementing \"isolation_tree\".</font>"
   ]
  },
  {
   "cell_type": "markdown",
   "metadata": {},
   "source": [
    "The following auxiliary function prints a tree in ASCII.\n",
    "\n",
    "<font size=\"-1\" color=\"gray\">(Remove this cell when delivering.)</font>"
   ]
  },
  {
   "cell_type": "code",
   "execution_count": null,
   "metadata": {},
   "outputs": [],
   "source": [
    "# LEAVE THIS CODE AS-IS\n",
    "\n",
    "class tree_drawing(object):\n",
    "    def __init__(self, value, left=None, right=None):\n",
    "        self.value = value\n",
    "        self.left = left\n",
    "        self.right = right\n",
    "\n",
    "    def __str__(self, label='', level=0):\n",
    "        ret = \"-\" * level + label + \":\" + repr(self.value)+\"\\n\"\n",
    "        if self.left:\n",
    "            ret += self.left.__str__(\"<\", level+1)\n",
    "        if self.right:\n",
    "            ret += self.right.__str__(\">\", level+1)\n",
    "        return ret\n",
    "\n",
    "    def __repr__(self):\n",
    "        return self.value\n",
    "    \n",
    "def tree_to_nodes(tree):\n",
    "    if 'contents' in tree:\n",
    "        data = tree['contents']\n",
    "        normal_count = len(data[data['result'] == 'normal'])\n",
    "        abnormal_count = len(data[data['result'] == 'abnormal'])\n",
    "        description = \"external node: %d normal + %d abnormal\" % (normal_count, abnormal_count)\n",
    "        return tree_drawing(description)\n",
    "    else:\n",
    "        left = tree['left']\n",
    "        right = tree['right']\n",
    "        description = 'internal node: ' + tree['dimension'] + ' <= ' + (\"%.2f\" % tree['split'])\n",
    "        n = tree_drawing(description, tree_to_nodes(left), tree_to_nodes(right) )\n",
    "        return n"
   ]
  },
  {
   "cell_type": "markdown",
   "metadata": {},
   "source": [
    "Test your function creating a shallow tree.\n",
    "\n",
    "<font size=\"-1\" color=\"gray\">(Remove this cell when delivering.)</font>"
   ]
  },
  {
   "cell_type": "code",
   "execution_count": null,
   "metadata": {},
   "outputs": [],
   "source": [
    "# LEAVE THIS CODE AS-IS\n",
    "\n",
    "mytree_thyroid = isolation_tree(dfti, ['id', 'result'], 2000)\n",
    "mytree_cardio = isolation_tree(dfci, ['id', 'result'], 200)"
   ]
  },
  {
   "cell_type": "markdown",
   "metadata": {},
   "source": [
    "Print your tree using this function. It should look something like this:\n",
    "\n",
    "```\n",
    ":'internal node: f4 <= 0.30'\n",
    "-<:'internal node: f3 <= 0.03'\n",
    "--<:'internal node: f5 <= 0.07'\n",
    "---<:'external node: 226 normal + 16 abnormal'\n",
    "--->:'internal node: f6 <= 0.12'\n",
    "----<:'external node: 4215 normal + 473 abnormal'\n",
    "---->:'external node: 1641 normal + 34 abnormal'\n",
    "-->:'external node: 576 normal + 11 abnormal'\n",
    "->:'external node: 8 normal + 0 abnormal'\n",
    "```\n",
    "\n",
    "Given that the tree is created by a **randomized process**, your tree will be different.\n",
    "\n",
    "<font size=\"-1\" color=\"gray\">(Remove this cell when delivering.)</font>"
   ]
  },
  {
   "cell_type": "code",
   "execution_count": null,
   "metadata": {},
   "outputs": [],
   "source": [
    "# LEAVE THIS CODE AS-IS\n",
    "\n",
    "print(\"Tree built on the 'thyroid' dataset\")\n",
    "print(tree_to_nodes(mytree_thyroid))\n",
    "print()\n",
    "\n",
    "print(\"Tree built on the 'cardio' dataset\")\n",
    "print(tree_to_nodes(mytree_cardio))\n",
    "print()"
   ]
  },
  {
   "cell_type": "markdown",
   "metadata": {},
   "source": [
    "Create a function `get_max_tree_depth` that returns the maximum depth of a tree.\n",
    "\n",
    "<font size=\"-1\" color=\"gray\">(Remove this cell when delivering.)</font>"
   ]
  },
  {
   "cell_type": "markdown",
   "metadata": {},
   "source": [
    "<font size=\"+1\" color=\"red\">Replace this cell with you code implementing `get_max_tree_depth`</font>"
   ]
  },
  {
   "cell_type": "markdown",
   "metadata": {},
   "source": [
    "The next cell tests your function. Check visually that the results are correct by looking at the printing of the trees above. This should match the maximum number of internal nodes, including the root, between the root and an external node.\n",
    "\n",
    "<font size=\"-1\" color=\"gray\">(Remove this cell when delivering.)</font>"
   ]
  },
  {
   "cell_type": "code",
   "execution_count": null,
   "metadata": {},
   "outputs": [],
   "source": [
    "# LEAVE THIS CODE AS-IS\n",
    "# Testing code\n",
    "\n",
    "print(\"Depth of the random tree you built over the 'thyroid' dataset\")\n",
    "print(get_max_tree_depth(mytree_thyroid))\n",
    "print()\n",
    "\n",
    "print(\"Depth of the random tree you built over the 'cardio' dataset\")\n",
    "print(get_max_tree_depth(mytree_cardio))\n",
    "print()"
   ]
  },
  {
   "cell_type": "markdown",
   "metadata": {},
   "source": [
    "# 2. Create isolation forests and find depth of items\n",
    "\n",
    "An isolation forest will be simply a an array of isolation trees.\n",
    "\n",
    "<font size=\"-1\" color=\"gray\">(Remove this cell when delivering.)</font>"
   ]
  },
  {
   "cell_type": "markdown",
   "metadata": {},
   "source": [
    "## 2.1. Create an isolation forest"
   ]
  },
  {
   "cell_type": "markdown",
   "metadata": {},
   "source": [
    "Write a function `isolation_forest(df, columns_to_ignore, min_items, num_trees)` that creates an array of *num_trees* isolation trees.\n",
    "\n",
    "<font size=\"-1\" color=\"gray\">(Remove this cell when delivering.)</font>"
   ]
  },
  {
   "cell_type": "markdown",
   "metadata": {},
   "source": [
    "<font size=\"+1\" color=\"red\">Replace this cell with you code implementing \"isolation_tree\".</font>"
   ]
  },
  {
   "cell_type": "markdown",
   "metadata": {},
   "source": [
    "Use the next code to test how to create an isolation forest of 20 trees, in which leaves have at least 50 items. It might take a few minutes to run.\n",
    "\n",
    "<font size=\"-1\" color=\"gray\">(Remove this cell when delivering.)</font>"
   ]
  },
  {
   "cell_type": "markdown",
   "metadata": {},
   "source": [
    "Use the next code to test how to create an isolation forest of 30 trees, in which leaves have at least 100 items. It might take a few minutes to run.\n",
    "\n",
    "**Note: please feel free to experiment with different number of trees and different number of minimum items.** If when performing the rest of the experiments and the histograms below, you notice that a different set of parameters yields more separation between classes, modify the next cell. If you do, please indicate clearly that you changed these parameters.\n",
    "\n",
    "<font size=\"-1\" color=\"gray\">(Remove this cell when delivering.)</font>"
   ]
  },
  {
   "cell_type": "code",
   "execution_count": null,
   "metadata": {},
   "outputs": [],
   "source": [
    "# LEAVE AS-IS OR MODIFY IF YOU SEE THAT IT IMPROVES THE SEPARATION BETWEEN CLASSES\n",
    "# If you change 'min_items' or 'num_trees', indicate here that you have changed them\n",
    "\n",
    "min_items_thyroid = 50\n",
    "num_trees_thyroid = 20\n",
    "\n",
    "myforest_thyroid = isolation_forest(dfti, ['id', 'result'], min_items_thyroid, num_trees_thyroid)\n",
    "print(\"The 'thyroid' forest has %d trees\" % len(myforest_thyroid))\n",
    "\n",
    "min_items_cardio = 50\n",
    "num_trees_cardio = 20\n",
    "\n",
    "myforest_cardio = isolation_forest(dfci, ['id', 'result'], min_items_cardio, num_trees_cardio)\n",
    "print(\"The 'cardio' forest has %d trees\" % len(myforest_cardio))"
   ]
  },
  {
   "cell_type": "markdown",
   "metadata": {},
   "source": [
    "Now we print the first two trees of each of these forests.\n",
    "\n",
    "<font size=\"-1\" color=\"gray\">(Remove this cell when delivering.)</font>"
   ]
  },
  {
   "cell_type": "code",
   "execution_count": null,
   "metadata": {},
   "outputs": [],
   "source": [
    "# LEAVE THIS CODE AS-IS\n",
    "\n",
    "print(\"Thyroid forest (first two trees)\")\n",
    "print(tree_to_nodes(myforest_thyroid[0]))\n",
    "print(tree_to_nodes(myforest_thyroid[1]))\n",
    "print()\n",
    "\n",
    "print(\"Cardio forest (first two trees)\")\n",
    "print(tree_to_nodes(myforest_cardio[0]))\n",
    "print(tree_to_nodes(myforest_cardio[1]))\n",
    "print()\n"
   ]
  },
  {
   "cell_type": "markdown",
   "metadata": {},
   "source": [
    "## 2.2. Find the average depth of an item"
   ]
  },
  {
   "cell_type": "markdown",
   "metadata": {},
   "source": [
    "Thie function `find_element_depth` finds the depth of a given element by recursively traversing the tree. It is a complicated function so we provide it. You can leave as-is.\n",
    "\n",
    "<font size=\"-1\" color=\"gray\">(Remove this cell when delivering.)</font>"
   ]
  },
  {
   "cell_type": "code",
   "execution_count": null,
   "metadata": {},
   "outputs": [],
   "source": [
    "# LEAVE AS-IS\n",
    "\n",
    "def find_element_depth_aux(tree, column_name, column_value, depth):\n",
    "    \n",
    "    if 'contents' in tree:\n",
    "        # We are in a leaf node\n",
    "        \n",
    "        data = tree['contents']\n",
    "        matching = data[data[column_name] == column_value]\n",
    "        if len(matching) == 0:\n",
    "            return None\n",
    "        elif len(matching) > 1:\n",
    "            print(\"Error: multiple elements match your search criterion\")\n",
    "            return None\n",
    "        else:\n",
    "            return depth\n",
    "    else:\n",
    "        # We are in an internal node\n",
    "        \n",
    "        in_left = find_element_depth_aux(tree['left'], column_name, column_value, depth+1)\n",
    "        if in_left == None:\n",
    "            in_right = find_element_depth_aux(tree['right'], column_name, column_value, depth+1)\n",
    "            return in_right\n",
    "        else:\n",
    "            return in_left\n",
    "        \n",
    "def find_element_depth(tree, column_name, column_value):\n",
    "    return find_element_depth_aux(tree, column_name, column_value, 0)"
   ]
  },
  {
   "cell_type": "markdown",
   "metadata": {},
   "source": [
    "Test this function by running it to find 5 normal and 5 abnormal thyroid exams on the shallow tree `mytree_thyroid` that we created above, and 5 normal and 5 abnormal cardio exams on the shallow tree `mytree_cardio` that we created before.\n",
    "\n",
    "<font size=\"-1\" color=\"gray\">(Remove this cell when delivering.)</font>"
   ]
  },
  {
   "cell_type": "code",
   "execution_count": null,
   "metadata": {},
   "outputs": [],
   "source": [
    "# LEAVE AS-IS\n",
    "\n",
    "def print_sample_depths(df, sample_size, tested_tree):\n",
    "\n",
    "    for result in ['normal', 'abnormal']:\n",
    "        print(\"Depths for %s items\" % result)\n",
    "\n",
    "        sample = list(df[df['result'] == result]['id'].sample(sample_size))\n",
    "\n",
    "        max_depth = get_max_tree_depth(tested_tree)\n",
    "        for random_id in sample:\n",
    "            print(\"- id=%s is at depth %d/%d\" % (random_id, find_element_depth(tested_tree, \"id\", random_id), max_depth))\n",
    "            \n",
    "    \n",
    "print(\"Shallow tree for thyroid, having maximum depth %d\" % get_max_tree_depth(mytree_thyroid))\n",
    "print_sample_depths(dfti, 5, mytree_thyroid)\n",
    "print()\n",
    "\n",
    "print(\"Shallow tree for cardio, having maximum depth %d\" % get_max_tree_depth(mytree_cardio))\n",
    "print_sample_depths(dfci, 5, mytree_cardio)\n",
    "print()"
   ]
  },
  {
   "cell_type": "markdown",
   "metadata": {},
   "source": [
    "<font size=\"+1\" color=\"red\">Replace this cell with a brief commentary on these depths.</font>"
   ]
  },
  {
   "cell_type": "markdown",
   "metadata": {},
   "source": [
    "Write function `find_average_depth(forest, column_name, value)` that finds the the average depth of an element having *column_name = value* in a forest.\n",
    "\n",
    "<font size=\"-1\" color=\"gray\">(Remove this cell when delivering.)</font>\n"
   ]
  },
  {
   "cell_type": "markdown",
   "metadata": {},
   "source": [
    "<font size=\"+1\" color=\"red\">Replace this cell with you code implementing \"find_average_depth\".</font>"
   ]
  },
  {
   "cell_type": "markdown",
   "metadata": {},
   "source": [
    "Test this function with five random elements.\n",
    "\n",
    "<font size=\"-1\" color=\"gray\">(Remove this cell when delivering.)</font>"
   ]
  },
  {
   "cell_type": "code",
   "execution_count": null,
   "metadata": {},
   "outputs": [],
   "source": [
    "# LEAVE AS-IS\n",
    "\n",
    "def test_random_elements(df, forest):\n",
    "    for result in ['normal', 'abnormal']:\n",
    "        print(\"Average depths for %s items\" % result)\n",
    "\n",
    "        sample = list(df[df['result'] == result]['id'].sample(5))\n",
    "\n",
    "        for random_id in sample:\n",
    "            print(\"- id=%s is at average depth %.1f\" % (random_id, find_average_depth(forest, \"id\", random_id)))\n",
    "\n",
    "        print()\n",
    "        \n",
    "print(\"Testing forest for the 'thyroid' dataset\")\n",
    "test_random_elements(dfti, myforest_thyroid)\n",
    "print()\n",
    "\n",
    "print(\"Testing forest for the 'cardio' dataset\")\n",
    "test_random_elements(dfti, myforest_thyroid)\n",
    "print()\n",
    "\n"
   ]
  },
  {
   "cell_type": "markdown",
   "metadata": {},
   "source": [
    "<font size=\"+1\" color=\"red\">Replace this cell with a brief commentary indicating how would you make the \"find_average_depth\" function more efficient if you wanted to obtain the average depth of **all** elements. Be concise but be precise, providing pseudocode if you consider it clearer than a text explanation.</font>"
   ]
  },
  {
   "cell_type": "markdown",
   "metadata": {},
   "source": [
    "# 3. Find the average depth of a sample of normal and abnormal points"
   ]
  },
  {
   "cell_type": "markdown",
   "metadata": {},
   "source": [
    "## 3.1. Determine average depths"
   ]
  },
  {
   "cell_type": "markdown",
   "metadata": {},
   "source": [
    "Next we sample 30 normal and 30 abnormal points.\n",
    "\n",
    "<font size=\"-1\" color=\"gray\">(Remove this cell when delivering.)</font>"
   ]
  },
  {
   "cell_type": "code",
   "execution_count": null,
   "metadata": {},
   "outputs": [],
   "source": [
    "# LEAVE AS-IS\n",
    "\n",
    "SAMPLE_SIZE = 30\n",
    "\n",
    "print(\"Thyroid dataset\")\n",
    "abnormal_thyroid_sample = list(dfti[dfti['result'] == 'abnormal']['id'].sample(SAMPLE_SIZE))\n",
    "normal_thyroid_sample = list(dfti[dfti['result'] == 'normal']['id'].sample(SAMPLE_SIZE))\n",
    "print(\"Normal point sample ids   : %s\" % abnormal_thyroid_sample)\n",
    "print(\"Abnormal point sample ids : %s\" % normal_thyroid_sample)\n",
    "\n",
    "print()\n",
    "\n",
    "print(\"Cardio dataset\")\n",
    "abnormal_cardio_sample = list(dfci[dfci['result'] == 'abnormal']['id'].sample(SAMPLE_SIZE))\n",
    "normal_cardio_sample = list(dfci[dfci['result'] == 'normal']['id'].sample(SAMPLE_SIZE))\n",
    "print(\"Normal point sample ids   : %s\" % abnormal_cardio_sample)\n",
    "print(\"Abnormal point sample ids : %s\" % normal_cardio_sample)\n"
   ]
  },
  {
   "cell_type": "code",
   "execution_count": null,
   "metadata": {},
   "outputs": [],
   "source": [
    "# LEAVE AS-IS\n",
    "\n",
    "def print_average_depths(forest, sample):\n",
    "    depths = []\n",
    "    for i in sample:\n",
    "        depth = find_average_depth(forest, 'id', i)\n",
    "        depths.append(depth)\n",
    "        print(\" element id=%s is at average depth %2.f\" % (i, depth))\n",
    "    return depths\n",
    "\n",
    "print(\"THYROID dataset\")\n",
    "print(\"Depths of items in the 'normal' sample:\")\n",
    "normal_depths_thyroid = print_average_depths(myforest_thyroid, normal_thyroid_sample)\n",
    "print(\"Depths of items in the 'abnormal' sample:\")\n",
    "abnormal_depths_thyroid = print_average_depths(myforest_thyroid, abnormal_thyroid_sample)\n",
    "print()\n",
    "\n",
    "print(\"CARDIO dataset\")\n",
    "print(\"Depths of items in the 'normal' sample:\")\n",
    "normal_depths_cardio = print_average_depths(myforest_cardio, normal_cardio_sample)\n",
    "print(\"Depths of items in the 'abnormal' sample:\")\n",
    "abnormal_depths_cardio = print_average_depths(myforest_cardio, abnormal_cardio_sample)\n",
    "print()\n"
   ]
  },
  {
   "cell_type": "markdown",
   "metadata": {},
   "source": [
    "Now, we create an histogram of the depths of normal and abnormal items.\n",
    "\n",
    "<font size=\"-1\" color=\"gray\">(Remove this cell when delivering.)</font>"
   ]
  },
  {
   "cell_type": "code",
   "execution_count": null,
   "metadata": {},
   "outputs": [],
   "source": [
    "# LEAVE AS-IS\n",
    "\n",
    "plt.figure(figsize=(12,4))\n",
    "plt.hist(normal_depths_thyroid, label='Normal', bins=15, density=False, histtype='step', color='blue')\n",
    "plt.hist(abnormal_depths_thyroid, label='Abnormal', bins=15, density=False, histtype='step', color='red')\n",
    "plt.title('Thyroid dataset samples')\n",
    "plt.xlabel('Average depth in the isolation forest')\n",
    "plt.ylabel('Frequency')\n",
    "plt.legend()\n",
    "plt.show()"
   ]
  },
  {
   "cell_type": "code",
   "execution_count": null,
   "metadata": {},
   "outputs": [],
   "source": [
    "# LEAVE AS-IS\n",
    "\n",
    "plt.figure(figsize=(12,4))\n",
    "plt.hist(normal_depths_cardio, label='Normal', bins=15, density=False, histtype='step', color='blue')\n",
    "plt.hist(abnormal_depths_cardio, label='Abnormal', bins=15, density=False, histtype='step', color='red')\n",
    "plt.title('Cardio dataset samples')\n",
    "plt.xlabel('Average depth in the isolation forest')\n",
    "plt.ylabel('Frequency')\n",
    "plt.legend()\n",
    "plt.show()"
   ]
  },
  {
   "cell_type": "markdown",
   "metadata": {},
   "source": [
    "<font size=\"+1\" color=\"red\">Replace this cell with a brief commentary of what you see in these histograms.</font>"
   ]
  },
  {
   "cell_type": "markdown",
   "metadata": {},
   "source": [
    "## 3.2. Compute outlier scores and conclude"
   ]
  },
  {
   "cell_type": "markdown",
   "metadata": {},
   "source": [
    "Use this fast method to compute harmonic numbers. Leave as-is.\n",
    "\n",
    "<font size=\"-1\" color=\"gray\">(Remove this cell when delivering.)</font>"
   ]
  },
  {
   "cell_type": "code",
   "execution_count": null,
   "metadata": {},
   "outputs": [],
   "source": [
    "# LEAVE THIS CODE AS-IS\n",
    "# Source: https://stackoverflow.com/a/27683292/1235784\n",
    "\n",
    "from numpy import euler_gamma\n",
    "from scipy.special import digamma\n",
    "def harmonic(s):\n",
    "    return digamma(s + 1) + euler_gamma"
   ]
  },
  {
   "cell_type": "markdown",
   "metadata": {},
   "source": [
    "With this and the formula seen in class, you can compute outlier scores. The function below, which you should leave as-is, uses the *factory* design pattern to avoid computing *c(n)* every time the outlier score needs to be computed.\n",
    "\n",
    "<font size=\"-1\" color=\"gray\">(Remove this cell when delivering.)</font>"
   ]
  },
  {
   "cell_type": "code",
   "execution_count": null,
   "metadata": {},
   "outputs": [],
   "source": [
    "# LEAVE THIS CODE AS-IS\n",
    "\n",
    "def outlier_score_factory(df):\n",
    "    n = len(df.index)\n",
    "    c_n = 2.0 * harmonic(n - 1.0) - (2.0 * (n-1)/n)\n",
    "    return lambda d: 2.0**(-d/c_n)\n",
    "\n",
    "outlier_score_thyroid = outlier_score_factory(dfti)\n",
    "outlier_score_cardio = outlier_score_factory(dfci)\n",
    "\n",
    "# Compute the scores for thyroid\n",
    "normal_scores_thyroid = [outlier_score(d) for d in normal_depths_thyroid]\n",
    "abnormal_scores_thyroid = [outlier_score(d) for d in abnormal_depths_thyroid]\n",
    "\n",
    "# Compute the scores for cardio\n",
    "normal_scores_cardio = [outlier_score(d) for d in normal_depths_cardio]\n",
    "abnormal_scores_cardio = [outlier_score(d) for d in abnormal_depths_cardio]\n"
   ]
  },
  {
   "cell_type": "markdown",
   "metadata": {},
   "source": [
    "Finally, we plot an histogram of outlier scores of normal and abnormal items.\n",
    "\n",
    "<font size=\"-1\" color=\"gray\">(Remove this cell when delivering.)</font>"
   ]
  },
  {
   "cell_type": "code",
   "execution_count": null,
   "metadata": {},
   "outputs": [],
   "source": [
    "# LEAVE AS-IS\n",
    "\n",
    "plt.figure(figsize=(16,3))\n",
    "\n",
    "# Plot the two histograms; the parameter 'alpha' is the transparency of the bar\n",
    "plt.hist(normal_scores_thyroid, label='Normal', bins=20, density=False, histtype='step', color='blue', alpha=0.7)\n",
    "plt.hist(abnormal_scores_thyroid, label='Abnormal', bins=20, density=False, histtype='step', color='red', alpha=0.7)\n",
    "\n",
    "# Draw the axis labels, legend, and display\n",
    "plt.title(\"Thyroid dataset samples\")\n",
    "plt.xlabel('Outlier score')\n",
    "plt.ylabel('Frequency')\n",
    "plt.legend()\n",
    "plt.show()"
   ]
  },
  {
   "cell_type": "code",
   "execution_count": null,
   "metadata": {},
   "outputs": [],
   "source": [
    "# LEAVE AS-IS\n",
    "\n",
    "plt.figure(figsize=(16,3))\n",
    "\n",
    "# Plot the two histograms; the parameter 'alpha' is the transparency of the bar\n",
    "plt.hist(normal_scores_cardio, label='Normal', bins=20, density=False, histtype='step', color='blue', alpha=0.7)\n",
    "plt.hist(abnormal_scores_cardio, label='Abnormal', bins=20, density=False, histtype='step', color='red', alpha=0.7)\n",
    "\n",
    "# Draw the axis labels, legend, and display\n",
    "plt.title(\"Cardio dataset samples\")\n",
    "plt.xlabel('Outlier score')\n",
    "plt.ylabel('Frequency')\n",
    "plt.legend()\n",
    "plt.show()"
   ]
  },
  {
   "cell_type": "markdown",
   "metadata": {},
   "source": [
    "<font size=\"+1\" color=\"red\">Replace this cell with a brief commentary of what you see in these histogram.</font>"
   ]
  },
  {
   "cell_type": "markdown",
   "metadata": {},
   "source": [
    "Next, write code to determine a suitable outlier score threshold based on normal and abnormal scores assuming every patient having `score <= threshold` will be classified as normal, and every patient with `score > threshold` will be classified as abnormal. Do this for the `thyroid` and `cardio` datasets separately.\n",
    "\n",
    "A good outlier score theshold has high accuracy, in the sense that is correctly classifies a large number of instances. The accuracy is the percentage of cases for which the thresholding method gives the correct label (normal or abnormal).\n",
    "\n",
    "\n",
    "<font size=\"-1\" color=\"gray\">(Remove this cell when delivering.)</font>"
   ]
  },
  {
   "cell_type": "markdown",
   "metadata": {},
   "source": [
    "<font size=\"+1\" color=\"red\">Replace this cell with your code to determine an optimal threshold for the `thyroid` dataset and the optional threshold for the `cardio` dataset. Indicate clearly what you are trying to do (binary search, exhaustive search, random search, etc.)</font>"
   ]
  },
  {
   "cell_type": "markdown",
   "metadata": {},
   "source": [
    "Evaluate the thresholds you have found. We know results will not be perfect as in these datasets there are some normal exams that look like abnormal and viceversa. If you use these thresholds, indicate what is the estimated **false positive rate** (the percentage of cases you label as abnormal but actually are normal), and **false negative rate** (the percentage of cases you label as normal but actually are abnormal).\n",
    "\n",
    "<font size=\"-1\" color=\"gray\">(Remove this cell when delivering.)</font>"
   ]
  },
  {
   "cell_type": "markdown",
   "metadata": {},
   "source": [
    "<font size=\"+1\" color=\"red\">Replace this cell with your evaluation (accuracy, false positive rate, and false negative rate) of the optimal threshold of outlier score for the `thyroid` dataset and for the `cardio` dataset, separately. Include a brief commentary, in your own words, on how this method performs on both datasets.</font>"
   ]
  },
  {
   "cell_type": "markdown",
   "metadata": {},
   "source": [
    "# DELIVER (individually)\n",
    "\n",
    "Remember to read the section on \"delivering your code\" in the [course evaluation guidelines](https://github.com/chatox/data-mining-course/blob/master/upf/upf-evaluation.md).\n",
    "\n",
    "Deliver a zip file containing:\n",
    "\n",
    "* This notebook\n",
    "\n",
    "## Extra points available\n",
    "\n",
    "For more learning and extra points, implement a faster method for finding_average_depths, indicating in your report that you implemented a faster method. Then, in the histograms do not sample but instead use all the elements in the dataset, i.e., remove `.sample(...)`.\n",
    "\n",
    "**Note:** if you go for the extra points, add ``<font size=\"+2\" color=\"blue\">Additional results: faster method to find all depths</font>`` at the top of your notebook.\n",
    "\n",
    "<font size=\"-1\" color=\"gray\">(Remove this cell when delivering.)</font>"
   ]
  },
  {
   "cell_type": "markdown",
   "metadata": {},
   "source": [
    "<font size=\"+2\" color=\"#003300\">I hereby declare that I completed this practice myself, that my answers were not written by an AI-enabled code assistant, and that except for the code provided by the course instructors, all of my code, report, and figures were produced by myself.</font>"
   ]
  }
 ],
 "metadata": {
  "kernelspec": {
   "display_name": "Python 3",
   "language": "python",
   "name": "python3"
  },
  "language_info": {
   "codemirror_mode": {
    "name": "ipython",
    "version": 3
   },
   "file_extension": ".py",
   "mimetype": "text/x-python",
   "name": "python",
   "nbconvert_exporter": "python",
   "pygments_lexer": "ipython3",
   "version": "3.10.12"
  }
 },
 "nbformat": 4,
 "nbformat_minor": 2
}
